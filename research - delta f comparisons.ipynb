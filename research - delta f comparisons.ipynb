{
 "cells": [
  {
   "cell_type": "code",
   "execution_count": 22,
   "metadata": {},
   "outputs": [
    {
     "name": "stdout",
     "output_type": "stream",
     "text": [
      "1 row:\n",
      "0        NaN\n",
      "1    0.09029\n",
      "2    0.02083\n",
      "3    0.01552\n",
      "4    0.09560\n",
      "dtype: float64\n"
     ]
    }
   ],
   "source": [
    "# Star: KIC-3219256 \n",
    "# Juliette Gudknecht\n",
    "# program to compare delta f values\n",
    "\n",
    "import pandas as pd\n",
    "\n",
    "with open('/Users/juliettegudknecht/Downloads/researchvalues.txt', 'r') as f:\n",
    "    freq = [line.strip() for line in f]\n",
    "    freq = list(map(float, freq))\n",
    "\n",
    "# import the data set, probably as a txt file \n",
    "\n",
    "s = pd.Series(freq)\n",
    "print(\"1 row:\")\n",
    "onerow = s.diff()\n",
    "print(onerow)"
   ]
  },
  {
   "cell_type": "code",
   "execution_count": 23,
   "metadata": {},
   "outputs": [
    {
     "name": "stdout",
     "output_type": "stream",
     "text": [
      "2 rows:\n",
      "0        NaN\n",
      "1        NaN\n",
      "2    0.11112\n",
      "3    0.03635\n",
      "4    0.11112\n",
      "dtype: float64\n"
     ]
    }
   ],
   "source": [
    "print(\"2 rows:\")\n",
    "tworows = s.diff(periods=2)\n",
    "print(tworows)"
   ]
  },
  {
   "cell_type": "code",
   "execution_count": null,
   "metadata": {},
   "outputs": [],
   "source": []
  }
 ],
 "metadata": {
  "kernelspec": {
   "display_name": "Python 3",
   "language": "python",
   "name": "python3"
  },
  "language_info": {
   "codemirror_mode": {
    "name": "ipython",
    "version": 3
   },
   "file_extension": ".py",
   "mimetype": "text/x-python",
   "name": "python",
   "nbconvert_exporter": "python",
   "pygments_lexer": "ipython3",
   "version": "3.7.4"
  }
 },
 "nbformat": 4,
 "nbformat_minor": 2
}
